{
 "cells": [
  {
   "cell_type": "markdown",
   "metadata": {
    "colab_type": "text",
    "id": "emj1GNgIT3CB"
   },
   "source": [
    "<div>\n",
    "<img src=https://www.institutedata.com/wp-content/uploads/2019/10/iod_h_tp_primary_c.svg width=\"300\">\n",
    "</div>"
   ]
  },
  {
   "cell_type": "markdown",
   "metadata": {
    "colab_type": "text",
    "id": "FvN6xzeyT3CC"
   },
   "source": [
    "1. Compute the scaler product of two vectors\n",
    "\n",
    "> In mathematics, the dot product or scalar product is an algebraic operation that takes two equal-length sequences of numbers (usually coordinate vectors) and returns a single number. \n",
    "\n",
    "> we can calculate it this way:\n",
    "\n",
    "        a · b = ax × bx + ay × by\n",
    "        \n",
    "Hint: [Dot Product](https://www.mathsisfun.com/algebra/vectors-dot-product.html)"
   ]
  },
  {
   "cell_type": "code",
   "execution_count": 2,
   "metadata": {
    "ExecuteTime": {
     "end_time": "2019-06-27T03:58:34.200170Z",
     "start_time": "2019-06-27T03:58:34.196182Z"
    },
    "colab": {},
    "colab_type": "code",
    "id": "JkwM7G3IT3CD"
   },
   "outputs": [],
   "source": [
    "import numpy as np"
   ]
  },
  {
   "cell_type": "code",
   "execution_count": 3,
   "metadata": {
    "ExecuteTime": {
     "end_time": "2019-06-27T04:56:56.317427Z",
     "start_time": "2019-06-27T04:56:56.313425Z"
    },
    "colab": {},
    "colab_type": "code",
    "id": "rsOPN02pT3CG"
   },
   "outputs": [],
   "source": [
    "a = [-12, 16]\n",
    "b = [12, 9]"
   ]
  },
  {
   "cell_type": "code",
   "execution_count": 4,
   "metadata": {},
   "outputs": [
    {
     "name": "stdout",
     "output_type": "stream",
     "text": [
      "0\n"
     ]
    }
   ],
   "source": [
    "#ANS to 1\n",
    "print(np.dot(a,b))"
   ]
  },
  {
   "cell_type": "markdown",
   "metadata": {
    "ExecuteTime": {
     "end_time": "2019-06-27T03:59:49.939731Z",
     "start_time": "2019-06-27T03:59:49.934711Z"
    },
    "colab_type": "text",
    "id": "cIamVopdT3CI"
   },
   "source": [
    "2. Compute the cross product of two vectors\n",
    "\n",
    "> When a and b start at the origin point (0,0,0), the Cross Product will end at:\n",
    "\n",
    "        cx = aybz − azby\n",
    "        cy = azbx − axbz\n",
    "        cz = axby − aybx\n",
    "        \n",
    "Hint: [Cross Product](https://www.mathsisfun.com/algebra/vectors-cross-product.html)"
   ]
  },
  {
   "cell_type": "code",
   "execution_count": 5,
   "metadata": {
    "ExecuteTime": {
     "end_time": "2019-06-27T04:56:59.994576Z",
     "start_time": "2019-06-27T04:56:59.987594Z"
    },
    "colab": {},
    "colab_type": "code",
    "id": "L9FjAAzNT3CJ"
   },
   "outputs": [],
   "source": [
    "x = np.array([[1,2,3], [4,5,6]])\n",
    "y = np.array([[4,5,6], [1,2,3]])"
   ]
  },
  {
   "cell_type": "code",
   "execution_count": 6,
   "metadata": {},
   "outputs": [
    {
     "name": "stdout",
     "output_type": "stream",
     "text": [
      "[[-3  6 -3]\n",
      " [ 3 -6  3]]\n"
     ]
    }
   ],
   "source": [
    "#ANS to 2\n",
    "print(np.cross(x,y))"
   ]
  },
  {
   "cell_type": "markdown",
   "metadata": {
    "colab_type": "text",
    "id": "2M2dKNL-T3CL"
   },
   "source": [
    "3. Compute the Hademard product (entry-wise multiplication) of two vectors.\n",
    "\n",
    "> In mathematics, the Hadamard product (also known as the Schur product[1] or the entrywise product[2]:ch. 5) is a binary operation that takes two matrices of the same dimensions and produces another matrix of the same dimension as the operands where each element i, j is the product of elements i, j of the original two matrices. It should not be confused with the more common matrix product. It is attributed to, and named after, either French mathematician Jacques Hadamard or German mathematician Issai Schur. [Wiki](https://en.wikipedia.org/wiki/Hadamard_product_(matrices))\n",
    "\n",
    "![](https://wikimedia.org/api/rest_v1/media/math/render/svg/4eb9bb54b2820fb3583901ec05bc4b474b6d90bc)"
   ]
  },
  {
   "cell_type": "code",
   "execution_count": 8,
   "metadata": {
    "ExecuteTime": {
     "end_time": "2019-06-27T04:57:06.480263Z",
     "start_time": "2019-06-27T04:57:06.474279Z"
    },
    "colab": {},
    "colab_type": "code",
    "id": "WnDQY9MyT3CM"
   },
   "outputs": [],
   "source": [
    "a = np.array([[1,2],[3,4]])\n",
    "b = np.array([[5,6],[7,8]])"
   ]
  },
  {
   "cell_type": "code",
   "execution_count": 9,
   "metadata": {},
   "outputs": [
    {
     "name": "stdout",
     "output_type": "stream",
     "text": [
      "[[ 5 12]\n",
      " [21 32]]\n"
     ]
    }
   ],
   "source": [
    "#ANS to 3\n",
    "print(np.multiply(a,b))"
   ]
  },
  {
   "cell_type": "markdown",
   "metadata": {
    "colab_type": "text",
    "id": "b1ZR2J8HT3CO"
   },
   "source": [
    "4. Compute the sum of two matrices.\n",
    "\n",
    "![](https://wikimedia.org/api/rest_v1/media/math/render/svg/0fb7845af355c550d44020e52699069c044126a9)"
   ]
  },
  {
   "cell_type": "code",
   "execution_count": 12,
   "metadata": {
    "ExecuteTime": {
     "end_time": "2019-06-27T04:57:13.225605Z",
     "start_time": "2019-06-27T04:57:13.214634Z"
    },
    "colab": {},
    "colab_type": "code",
    "id": "ulBVhGDET3CP"
   },
   "outputs": [],
   "source": [
    "# Program to add two matrices using nested loop\n",
    "\n",
    "X = [[12,7,3],\n",
    "    [4 ,5,6],\n",
    "    [7 ,8,9]]\n",
    "\n",
    "Y = [[5,8,1],\n",
    "    [6,7,3],\n",
    "    [4,5,9]]\n",
    "\n",
    "result = [[0,0,0],\n",
    "         [0,0,0],\n",
    "         [0,0,0]]"
   ]
  },
  {
   "cell_type": "code",
   "execution_count": 21,
   "metadata": {},
   "outputs": [
    {
     "name": "stdout",
     "output_type": "stream",
     "text": [
      "[[17, 15, 4], [10, 12, 9], [11, 13, 18]]\n"
     ]
    }
   ],
   "source": [
    "#ANS to 4\n",
    "for i in range(len(X)):\n",
    "    #print (f\"i is now {i}\")\n",
    "    #print(f\"X[{i}] is {X[i]}\")\n",
    "    #print(f\"Y[{i}] is {Y[i]}\")\n",
    "    for j in range(len(X[i])):\n",
    "        #print (f\"j is now {j}\")\n",
    "        #print(f\"X[{i}][{j}] is {X[i][j]}\")\n",
    "        #print(f\"Y[{i}][{j}] is {Y[i][j]}\")\n",
    "        result[i][j] = X[i][j] + Y[i][j]\n",
    "print (result)"
   ]
  },
  {
   "cell_type": "markdown",
   "metadata": {
    "ExecuteTime": {
     "end_time": "2019-06-27T04:04:23.509007Z",
     "start_time": "2019-06-27T04:04:23.503018Z"
    },
    "colab_type": "text",
    "id": "CZFVdvEhT3CS"
   },
   "source": [
    "5. Compute the product of two matrices.\n",
    "\n",
    "![](https://upload.wikimedia.org/wikipedia/commons/e/eb/Matrix_multiplication_diagram_2.svg)"
   ]
  },
  {
   "cell_type": "code",
   "execution_count": 82,
   "metadata": {
    "ExecuteTime": {
     "end_time": "2019-06-27T04:57:19.425749Z",
     "start_time": "2019-06-27T04:57:19.412783Z"
    },
    "colab": {},
    "colab_type": "code",
    "id": "2cwCXjx_T3CT"
   },
   "outputs": [],
   "source": [
    "# Program to multiply two matrices using nested loops\n",
    "\n",
    "# 3x3 matrix\n",
    "X = [[12,7,3],\n",
    "    [4 ,5,6],\n",
    "    [7 ,8,9]]\n",
    "\n",
    "# 3x4 matrix\n",
    "Y = [[5,8,1,2],\n",
    "    [6,7,3,0],\n",
    "    [4,5,9,1]]\n",
    "\n",
    "# result is 3x4\n",
    "result = [[0,0,0,0],\n",
    "         [0,0,0,0],\n",
    "         [0,0,0,0]]"
   ]
  },
  {
   "cell_type": "code",
   "execution_count": 68,
   "metadata": {},
   "outputs": [
    {
     "name": "stdout",
     "output_type": "stream",
     "text": [
      "i is now 0\n",
      "\tj is now 0\n",
      "\t\tk is now 0\n",
      "\t\t\tX[0][0] is 12\n",
      "\t\t\tY[0][0] is 5\n",
      "\t\t\tresult[0][0] was 0\n",
      "\t\t\tresult[0][0] is now 60\n",
      "\t\tk is now 1\n",
      "\t\t\tX[0][1] is 7\n",
      "\t\t\tY[1][0] is 6\n",
      "\t\t\tresult[0][0] was 60\n",
      "\t\t\tresult[0][0] is now 102\n",
      "\t\tk is now 2\n",
      "\t\t\tX[0][2] is 3\n",
      "\t\t\tY[2][0] is 4\n",
      "\t\t\tresult[0][0] was 102\n",
      "\t\t\tresult[0][0] is now 114\n",
      "\tj is now 1\n",
      "\t\tk is now 0\n",
      "\t\t\tX[0][0] is 12\n",
      "\t\t\tY[0][1] is 8\n",
      "\t\t\tresult[0][1] was 0\n",
      "\t\t\tresult[0][1] is now 96\n",
      "\t\tk is now 1\n",
      "\t\t\tX[0][1] is 7\n",
      "\t\t\tY[1][1] is 7\n",
      "\t\t\tresult[0][1] was 96\n",
      "\t\t\tresult[0][1] is now 145\n",
      "\t\tk is now 2\n",
      "\t\t\tX[0][2] is 3\n",
      "\t\t\tY[2][1] is 5\n",
      "\t\t\tresult[0][1] was 145\n",
      "\t\t\tresult[0][1] is now 160\n",
      "\tj is now 2\n",
      "\t\tk is now 0\n",
      "\t\t\tX[0][0] is 12\n",
      "\t\t\tY[0][2] is 1\n",
      "\t\t\tresult[0][2] was 0\n",
      "\t\t\tresult[0][2] is now 12\n",
      "\t\tk is now 1\n",
      "\t\t\tX[0][1] is 7\n",
      "\t\t\tY[1][2] is 3\n",
      "\t\t\tresult[0][2] was 12\n",
      "\t\t\tresult[0][2] is now 33\n",
      "\t\tk is now 2\n",
      "\t\t\tX[0][2] is 3\n",
      "\t\t\tY[2][2] is 9\n",
      "\t\t\tresult[0][2] was 33\n",
      "\t\t\tresult[0][2] is now 60\n",
      "\tj is now 3\n",
      "\t\tk is now 0\n",
      "\t\t\tX[0][0] is 12\n",
      "\t\t\tY[0][3] is 2\n",
      "\t\t\tresult[0][3] was 0\n",
      "\t\t\tresult[0][3] is now 24\n",
      "\t\tk is now 1\n",
      "\t\t\tX[0][1] is 7\n",
      "\t\t\tY[1][3] is 0\n",
      "\t\t\tresult[0][3] was 24\n",
      "\t\t\tresult[0][3] is now 24\n",
      "\t\tk is now 2\n",
      "\t\t\tX[0][2] is 3\n",
      "\t\t\tY[2][3] is 1\n",
      "\t\t\tresult[0][3] was 24\n",
      "\t\t\tresult[0][3] is now 27\n",
      "i is now 1\n",
      "\tj is now 0\n",
      "\t\tk is now 0\n",
      "\t\t\tX[1][0] is 4\n",
      "\t\t\tY[0][0] is 5\n",
      "\t\t\tresult[1][0] was 0\n",
      "\t\t\tresult[1][0] is now 20\n",
      "\t\tk is now 1\n",
      "\t\t\tX[1][1] is 5\n",
      "\t\t\tY[1][0] is 6\n",
      "\t\t\tresult[1][0] was 20\n",
      "\t\t\tresult[1][0] is now 50\n",
      "\t\tk is now 2\n",
      "\t\t\tX[1][2] is 6\n",
      "\t\t\tY[2][0] is 4\n",
      "\t\t\tresult[1][0] was 50\n",
      "\t\t\tresult[1][0] is now 74\n",
      "\tj is now 1\n",
      "\t\tk is now 0\n",
      "\t\t\tX[1][0] is 4\n",
      "\t\t\tY[0][1] is 8\n",
      "\t\t\tresult[1][1] was 0\n",
      "\t\t\tresult[1][1] is now 32\n",
      "\t\tk is now 1\n",
      "\t\t\tX[1][1] is 5\n",
      "\t\t\tY[1][1] is 7\n",
      "\t\t\tresult[1][1] was 32\n",
      "\t\t\tresult[1][1] is now 67\n",
      "\t\tk is now 2\n",
      "\t\t\tX[1][2] is 6\n",
      "\t\t\tY[2][1] is 5\n",
      "\t\t\tresult[1][1] was 67\n",
      "\t\t\tresult[1][1] is now 97\n",
      "\tj is now 2\n",
      "\t\tk is now 0\n",
      "\t\t\tX[1][0] is 4\n",
      "\t\t\tY[0][2] is 1\n",
      "\t\t\tresult[1][2] was 0\n",
      "\t\t\tresult[1][2] is now 4\n",
      "\t\tk is now 1\n",
      "\t\t\tX[1][1] is 5\n",
      "\t\t\tY[1][2] is 3\n",
      "\t\t\tresult[1][2] was 4\n",
      "\t\t\tresult[1][2] is now 19\n",
      "\t\tk is now 2\n",
      "\t\t\tX[1][2] is 6\n",
      "\t\t\tY[2][2] is 9\n",
      "\t\t\tresult[1][2] was 19\n",
      "\t\t\tresult[1][2] is now 73\n",
      "\tj is now 3\n",
      "\t\tk is now 0\n",
      "\t\t\tX[1][0] is 4\n",
      "\t\t\tY[0][3] is 2\n",
      "\t\t\tresult[1][3] was 0\n",
      "\t\t\tresult[1][3] is now 8\n",
      "\t\tk is now 1\n",
      "\t\t\tX[1][1] is 5\n",
      "\t\t\tY[1][3] is 0\n",
      "\t\t\tresult[1][3] was 8\n",
      "\t\t\tresult[1][3] is now 8\n",
      "\t\tk is now 2\n",
      "\t\t\tX[1][2] is 6\n",
      "\t\t\tY[2][3] is 1\n",
      "\t\t\tresult[1][3] was 8\n",
      "\t\t\tresult[1][3] is now 14\n",
      "i is now 2\n",
      "\tj is now 0\n",
      "\t\tk is now 0\n",
      "\t\t\tX[2][0] is 7\n",
      "\t\t\tY[0][0] is 5\n",
      "\t\t\tresult[2][0] was 0\n",
      "\t\t\tresult[2][0] is now 35\n",
      "\t\tk is now 1\n",
      "\t\t\tX[2][1] is 8\n",
      "\t\t\tY[1][0] is 6\n",
      "\t\t\tresult[2][0] was 35\n",
      "\t\t\tresult[2][0] is now 83\n",
      "\t\tk is now 2\n",
      "\t\t\tX[2][2] is 9\n",
      "\t\t\tY[2][0] is 4\n",
      "\t\t\tresult[2][0] was 83\n",
      "\t\t\tresult[2][0] is now 119\n",
      "\tj is now 1\n",
      "\t\tk is now 0\n",
      "\t\t\tX[2][0] is 7\n",
      "\t\t\tY[0][1] is 8\n",
      "\t\t\tresult[2][1] was 0\n",
      "\t\t\tresult[2][1] is now 56\n",
      "\t\tk is now 1\n",
      "\t\t\tX[2][1] is 8\n",
      "\t\t\tY[1][1] is 7\n",
      "\t\t\tresult[2][1] was 56\n",
      "\t\t\tresult[2][1] is now 112\n",
      "\t\tk is now 2\n",
      "\t\t\tX[2][2] is 9\n",
      "\t\t\tY[2][1] is 5\n",
      "\t\t\tresult[2][1] was 112\n",
      "\t\t\tresult[2][1] is now 157\n",
      "\tj is now 2\n",
      "\t\tk is now 0\n",
      "\t\t\tX[2][0] is 7\n",
      "\t\t\tY[0][2] is 1\n",
      "\t\t\tresult[2][2] was 0\n",
      "\t\t\tresult[2][2] is now 7\n",
      "\t\tk is now 1\n",
      "\t\t\tX[2][1] is 8\n",
      "\t\t\tY[1][2] is 3\n",
      "\t\t\tresult[2][2] was 7\n",
      "\t\t\tresult[2][2] is now 31\n",
      "\t\tk is now 2\n",
      "\t\t\tX[2][2] is 9\n",
      "\t\t\tY[2][2] is 9\n",
      "\t\t\tresult[2][2] was 31\n",
      "\t\t\tresult[2][2] is now 112\n",
      "\tj is now 3\n",
      "\t\tk is now 0\n",
      "\t\t\tX[2][0] is 7\n",
      "\t\t\tY[0][3] is 2\n",
      "\t\t\tresult[2][3] was 0\n",
      "\t\t\tresult[2][3] is now 14\n",
      "\t\tk is now 1\n",
      "\t\t\tX[2][1] is 8\n",
      "\t\t\tY[1][3] is 0\n",
      "\t\t\tresult[2][3] was 14\n",
      "\t\t\tresult[2][3] is now 14\n",
      "\t\tk is now 2\n",
      "\t\t\tX[2][2] is 9\n",
      "\t\t\tY[2][3] is 1\n",
      "\t\t\tresult[2][3] was 14\n",
      "\t\t\tresult[2][3] is now 23\n",
      "[[114, 160, 60, 27], [74, 97, 73, 14], [119, 157, 112, 23]]\n"
     ]
    }
   ],
   "source": [
    "#ANS to 5 (with output of code iterations to help visualization)\n",
    "for i in range(len(X)):\n",
    "    print (f\"i is now {i}\")\n",
    "    for j in range(len(Y[0])):\n",
    "        print (f\"\\tj is now {j}\")\n",
    "        for k in range(len(Y)):\n",
    "            print (f\"\\t\\tk is now {k}\")\n",
    "            print(f\"\\t\\t\\tX[{i}][{k}] is {X[i][k]}\")\n",
    "            print(f\"\\t\\t\\tY[{k}][{j}] is {Y[k][j]}\")\n",
    "            print(f\"\\t\\t\\tresult[{i}][{j}] was {result[i][j]}\")\n",
    "            result[i][j] += X[i][k] * Y[k][j]\n",
    "            print(f\"\\t\\t\\tresult[{i}][{j}] is now {result[i][j]}\")\n",
    "print(result)"
   ]
  },
  {
   "cell_type": "code",
   "execution_count": 56,
   "metadata": {
    "scrolled": true
   },
   "outputs": [
    {
     "name": "stdout",
     "output_type": "stream",
     "text": [
      "[[114, 160, 60, 27], [74, 97, 73, 14], [119, 157, 112, 23]]\n"
     ]
    }
   ],
   "source": [
    "#ANS to 5\n",
    "for i in range(len(X)):\n",
    "    for j in range(len(Y[0])):\n",
    "        for k in range(len(Y)):\n",
    "            result[i][j] += X[i][k] * Y[k][j]\n",
    "            \n",
    "print(result)"
   ]
  },
  {
   "cell_type": "code",
   "execution_count": 79,
   "metadata": {
    "scrolled": true
   },
   "outputs": [
    {
     "name": "stdout",
     "output_type": "stream",
     "text": [
      "[[ 2 18 68]\n",
      " [ 1 50 88]\n",
      " [33 92 14]]\n",
      "[[45 74 99  7]\n",
      " [39 93 61 15]\n",
      " [ 4  0 47  3]]\n"
     ]
    }
   ],
   "source": [
    "# DO NOT RUN: proof of concept for error-checking in matrix_multiply procedure\n",
    "X = np.random.randint(100,size=(3,3))\n",
    "Y = np.random.randint(100,size=(2,4))\n",
    "print(X)\n",
    "print(Y)"
   ]
  },
  {
   "cell_type": "code",
   "execution_count": 84,
   "metadata": {},
   "outputs": [
    {
     "name": "stdout",
     "output_type": "stream",
     "text": [
      "The multiplication of Matrix X by Matrix Y is: [[114, 160, 60, 27], [74, 97, 73, 14], [119, 157, 112, 23]]\n"
     ]
    }
   ],
   "source": [
    "#ANS to 5 generalised to a procedure taking any two matrices\n",
    "\n",
    "def matrix_multiply (a,b):\n",
    "    # check that length of columns in Matrix a is same as length as rows in Matrix b\n",
    "    if len(a[0]) != len(b):\n",
    "        print(\"Invalid operation: Number of columns for first matrix must equal number of rows for second matrix\")\n",
    "    else:\n",
    "    # initialize resultant matrix with shape (rows of matrix a, columns of matrix b)\n",
    "        result = [ [0 for i in range(len(b[0]))] for j in range(len(a)) ]\n",
    "        # print(f'Initialized result matrix: {result}')\n",
    "    # iterate thru rows of matrix a\n",
    "        for i in range(len(a)):\n",
    "            # iterate thru columns of matrix b\n",
    "            for j in range(len(b[0])):\n",
    "                # iterate thru rows of matrix b\n",
    "                for k in range(len(b)):\n",
    "                    result[i][j] += a[i][k] * b[k][j]\n",
    "        return result\n",
    "    \n",
    "print(f'The multiplication of Matrix X by Matrix Y is: {matrix_multiply(X,Y)}')"
   ]
  },
  {
   "cell_type": "code",
   "execution_count": 85,
   "metadata": {},
   "outputs": [
    {
     "name": "stdout",
     "output_type": "stream",
     "text": [
      "The multiplication of Matrix X by Matrix Y is: [[114, 160, 60, 27], [74, 97, 73, 14], [119, 157, 112, 23]]\n"
     ]
    }
   ],
   "source": [
    "#ANS to 5 generalised to a procedure taking any two matrices, but using list comprehensions in lieu of nested for-loops\n",
    "def matrix_multiply (a,b):\n",
    "    return [ [sum(i*j for i,j in zip(r,c)) for c in zip(*b)] for r in a ]\n",
    "\n",
    "print(f'The multiplication of Matrix X by Matrix Y is: {matrix_multiply(X,Y)}')"
   ]
  },
  {
   "cell_type": "code",
   "execution_count": 92,
   "metadata": {},
   "outputs": [
    {
     "name": "stdout",
     "output_type": "stream",
     "text": [
      "[(12, 5), (7, 6), (3, 4)]\n"
     ]
    }
   ],
   "source": [
    "# DO-NOT-RUN - Decomposing nested list comprehension for visualization of expression 'for i,j in zip (r,c)'\n",
    "r = [12,7,3]\n",
    "c = [5,6,4]\n",
    "e = zip(r,c)\n",
    "print(list(e))"
   ]
  },
  {
   "cell_type": "code",
   "execution_count": 90,
   "metadata": {},
   "outputs": [
    {
     "name": "stdout",
     "output_type": "stream",
     "text": [
      "[(5, 6, 4), (8, 7, 5), (1, 3, 9), (2, 0, 1)]\n"
     ]
    }
   ],
   "source": [
    "# DO-NOT-RUN - decomposition of list comprehension for visualization of 'zip(*b)'\n",
    "\n",
    "# 3x3 matrix\n",
    "X = [[12,7,3],\n",
    "    [4 ,5,6],\n",
    "    [7 ,8,9]]\n",
    "\n",
    "# 3x4 matrix\n",
    "Y = [[5,8,1,2],\n",
    "    [6,7,3,0],\n",
    "    [4,5,9,1]]\n",
    "\n",
    "d = zip(*Y)\n",
    "print(list(d))\n",
    "\n",
    "for c in d: print(c)"
   ]
  },
  {
   "cell_type": "markdown",
   "metadata": {
    "colab_type": "text",
    "id": "zxe0vdBVT3CV"
   },
   "source": [
    "6. Compute the determinant of an n x n matrix.\n",
    "\n",
    "![](https://integratedmlai.com/wp-content/uploads/2018/12/Matrix_Det_2x2.png)\n",
    "\n",
    "Hint: [Find the Determinant of a Matrix with Pure Python without Numpy or Scipy](https://integratedmlai.com/find-the-determinant-of-a-matrix-with-pure-python-without-numpy-or-scipy/)\n",
    "\n",
    "Hint: Use \n",
    "> np.linalg.det"
   ]
  },
  {
   "cell_type": "code",
   "execution_count": 93,
   "metadata": {
    "ExecuteTime": {
     "end_time": "2019-06-27T04:58:00.140277Z",
     "start_time": "2019-06-27T04:58:00.135291Z"
    },
    "colab": {},
    "colab_type": "code",
    "id": "7SpAPh-5T3CW"
   },
   "outputs": [],
   "source": [
    "matrix = [[-2,2,-3],[-1,1,3],[2,0,-1]]"
   ]
  },
  {
   "cell_type": "code",
   "execution_count": 94,
   "metadata": {},
   "outputs": [
    {
     "name": "stdout",
     "output_type": "stream",
     "text": [
      "17.999999999999996\n"
     ]
    }
   ],
   "source": [
    "determinant = np.linalg.det(matrix)\n",
    "print(determinant)"
   ]
  },
  {
   "cell_type": "markdown",
   "metadata": {
    "colab_type": "text",
    "id": "vUC6L5r1T3Ca"
   },
   "source": [
    "7. Compute the inverse of an n x n matrix.\n",
    "\n",
    "For a 3×3 matrix\n",
    "\n",
    "![](http://mathworld.wolfram.com/images/equations/MatrixInverse/NumberedEquation3.gif)\n",
    "\n",
    "the matrix inverse is\n",
    "\n",
    "![](http://mathworld.wolfram.com/images/equations/MatrixInverse/NumberedEquation4.gif)\n",
    "\n",
    "Hint: Use \n",
    "> from numpy.linalg import inv"
   ]
  },
  {
   "cell_type": "code",
   "execution_count": 95,
   "metadata": {
    "ExecuteTime": {
     "end_time": "2019-06-27T04:58:33.615832Z",
     "start_time": "2019-06-27T04:58:33.609848Z"
    },
    "colab": {},
    "colab_type": "code",
    "id": "qGxUYlMWT3Cb"
   },
   "outputs": [],
   "source": [
    "a = np.array([[1., 2.], [3., 4.]])"
   ]
  },
  {
   "cell_type": "code",
   "execution_count": 96,
   "metadata": {},
   "outputs": [
    {
     "name": "stdout",
     "output_type": "stream",
     "text": [
      "[[-2.   1. ]\n",
      " [ 1.5 -0.5]]\n"
     ]
    }
   ],
   "source": [
    "a_inverse = np.linalg.inv(a)\n",
    "print(a_inverse)"
   ]
  },
  {
   "cell_type": "markdown",
   "metadata": {
    "colab_type": "text",
    "id": "f52z_umQpL1V"
   },
   "source": [
    "\n",
    "\n",
    "---\n",
    "\n",
    "\n",
    "\n",
    "---\n",
    "\n",
    "\n",
    "\n",
    "> > > > > > > > > © 2019 Institute of Data\n",
    "\n",
    "\n",
    "---\n",
    "\n",
    "\n",
    "\n",
    "---\n",
    "\n",
    "\n",
    "\n"
   ]
  }
 ],
 "metadata": {
  "colab": {
   "collapsed_sections": [],
   "name": "Lab 1.1.1 Vector & Matrix Operations .ipynb",
   "provenance": []
  },
  "kernelspec": {
   "display_name": "Python 3",
   "language": "python",
   "name": "python3"
  },
  "language_info": {
   "codemirror_mode": {
    "name": "ipython",
    "version": 3
   },
   "file_extension": ".py",
   "mimetype": "text/x-python",
   "name": "python",
   "nbconvert_exporter": "python",
   "pygments_lexer": "ipython3",
   "version": "3.8.3"
  }
 },
 "nbformat": 4,
 "nbformat_minor": 1
}
