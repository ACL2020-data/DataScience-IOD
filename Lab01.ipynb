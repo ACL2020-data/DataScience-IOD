{
 "cells": [
  {
   "cell_type": "markdown",
   "metadata": {
    "colab_type": "text",
    "id": "7KeNKtNL2Ix-"
   },
   "source": [
    "<div>\n",
    "<img src=https://www.institutedata.com/wp-content/uploads/2019/10/iod_h_tp_primary_c.svg width=\"300\">\n",
    "</div>\n",
    "\n",
    "# Python - Lab 1 \n",
    "\n",
    "## Learning objectives\n",
    "\n",
    "This lab demonstrates examples of: \n",
    "\n",
    "1. Creating and manipulating lists\n",
    "2. For loops\n",
    "3. Importing modules and functions\n",
    "4. Creating dictonaries\n",
    "\n",
    "## Instructions:\n",
    "\n",
    "1. Replace ??? with the appropriate code\n",
    "2. Press Shift + Enter to execute cell\n",
    "\n"
   ]
  },
  {
   "cell_type": "code",
   "execution_count": 17,
   "metadata": {
    "colab": {},
    "colab_type": "code",
    "id": "NaRcNY1l2LbD"
   },
   "outputs": [],
   "source": [
    "# create a list of 10 student (use just first name)\n",
    "students = ['Aileen','Ashish','Bindiya','Celina','Eshan','Ammar','Paul','Wilfred','Herman','Adrian']"
   ]
  },
  {
   "cell_type": "code",
   "execution_count": 18,
   "metadata": {
    "colab": {},
    "colab_type": "code",
    "id": "lyMlOgoUZ2R4"
   },
   "outputs": [
    {
     "name": "stdout",
     "output_type": "stream",
     "text": [
      "['Aileen', 'Ashish', 'Bindiya', 'Celina', 'Eshan', 'Ammar', 'Paul', 'Wilfred', 'Herman', 'Adrian']\n"
     ]
    }
   ],
   "source": [
    "# Print the list\n",
    "print(students)"
   ]
  },
  {
   "cell_type": "code",
   "execution_count": 19,
   "metadata": {
    "colab": {},
    "colab_type": "code",
    "id": "LtbLA_T811kr"
   },
   "outputs": [
    {
     "name": "stdout",
     "output_type": "stream",
     "text": [
      "Index 01 \t Aileen\n",
      "Index 02 \t Ashish\n",
      "Index 03 \t Bindiya\n",
      "Index 04 \t Celina\n",
      "Index 05 \t Eshan\n",
      "Index 06 \t Ammar\n",
      "Index 07 \t Paul\n",
      "Index 08 \t Wilfred\n",
      "Index 09 \t Herman\n",
      "Index 10 \t Adrian\n"
     ]
    }
   ],
   "source": [
    "# print the list of students\n",
    "# in the following format\n",
    "# Index 01 \t Alice\n",
    "# Index 02 \t Bob\n",
    "# Index 03 \t Pradeep\n",
    "for x, y in enumerate(students):\n",
    "    print('Index {:02d} \t {}'.format(x+1,y))"
   ]
  },
  {
   "cell_type": "code",
   "execution_count": 20,
   "metadata": {
    "colab": {},
    "colab_type": "code",
    "id": "OF5sj3CX1lHl"
   },
   "outputs": [
    {
     "name": "stdout",
     "output_type": "stream",
     "text": [
      "Index 01 \t Adrian\n",
      "Index 02 \t Herman\n",
      "Index 03 \t Wilfred\n",
      "Index 04 \t Paul\n",
      "Index 05 \t Ammar\n",
      "Index 06 \t Eshan\n",
      "Index 07 \t Celina\n",
      "Index 08 \t Bindiya\n",
      "Index 09 \t Ashish\n",
      "Index 10 \t Aileen\n"
     ]
    }
   ],
   "source": [
    "# print the list of students in reverse order one student in a line with its index\n",
    "students_reverse = students.copy()\n",
    "students_reverse.reverse()\n",
    "for x, y in enumerate(students_reverse):\n",
    "    print('Index {:02d} \t {}'.format(x+1,y))"
   ]
  },
  {
   "cell_type": "code",
   "execution_count": 21,
   "metadata": {
    "colab": {},
    "colab_type": "code",
    "id": "eAdtim4G1pyV",
    "scrolled": true
   },
   "outputs": [
    {
     "name": "stdout",
     "output_type": "stream",
     "text": [
      "Index 01 \t Wilfred\n",
      "Index 02 \t Aileen\n",
      "Index 03 \t Eshan\n",
      "Index 04 \t Ashish\n",
      "Index 05 \t Ammar\n",
      "Index 06 \t Paul\n",
      "Index 07 \t Adrian\n",
      "Index 08 \t Celina\n",
      "Index 09 \t Bindiya\n",
      "Index 10 \t Herman\n"
     ]
    }
   ],
   "source": [
    "# print the student list in random order\n",
    "# hint look up the function random.sample\n",
    "from random import sample\n",
    "random_students = sample(students,len(students))\n",
    "for x, y in enumerate(random_students):\n",
    "    print('Index {:02d} \t {}'.format(x+1,y))"
   ]
  },
  {
   "cell_type": "code",
   "execution_count": 39,
   "metadata": {
    "colab": {},
    "colab_type": "code",
    "id": "sfKkL5dt1tqG"
   },
   "outputs": [
    {
     "name": "stdout",
     "output_type": "stream",
     "text": [
      "Ammar   :90\n",
      "Aileen  :87\n",
      "Bindiya :76\n",
      "Adrian  :75\n",
      "Wilfred :73\n",
      "Herman  :69\n",
      "Eshan   :66\n",
      "Celina  :64\n",
      "Paul    :55\n",
      "Ashish  :45\n"
     ]
    }
   ],
   "source": [
    "# list students in order of their exam marks in the following list\n",
    "marks = [87,45,76,64,66,90,55,73,69,75]\n",
    "student_results = dict(zip(students,marks))\n",
    "# print(f\"Students and their marks: \\n {student_results}\") \"\"\"Check dictionary content\"\"\"\n",
    "padding = len(max(students))\n",
    "for x in sorted(student_results, key=student_results.get, reverse=True):\n",
    "    print('{} :{}'.format(x.ljust(padding),student_results[x]))"
   ]
  },
  {
   "cell_type": "code",
   "execution_count": null,
   "metadata": {},
   "outputs": [],
   "source": []
  }
 ],
 "metadata": {
  "colab": {
   "collapsed_sections": [],
   "name": "Lab01.ipynb",
   "provenance": []
  },
  "kernelspec": {
   "display_name": "Python 3",
   "language": "python",
   "name": "python3"
  },
  "language_info": {
   "codemirror_mode": {
    "name": "ipython",
    "version": 3
   },
   "file_extension": ".py",
   "mimetype": "text/x-python",
   "name": "python",
   "nbconvert_exporter": "python",
   "pygments_lexer": "ipython3",
   "version": "3.8.3"
  }
 },
 "nbformat": 4,
 "nbformat_minor": 1
}
